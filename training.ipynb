{
 "cells": [
  {
   "cell_type": "markdown",
   "metadata": {},
   "source": [
    "**Load data**\n",
    "\n",
    "Load from csv into pandas. Each sequence, one by one."
   ]
  },
  {
   "cell_type": "code",
   "execution_count": 10,
   "metadata": {},
   "outputs": [
    {
     "name": "stdout",
     "output_type": "stream",
     "text": [
      "Reading:  data\\AAPL_data.csv\n",
      "Reading:  data\\AMD_data.csv\n",
      "Reading:  data\\APD_data.csv\n",
      "Reading:  data\\HST_data.csv\n",
      "Reading:  data\\MCD_data.csv\n",
      "Reading:  data\\MRO_data.csv\n",
      "Reading:  data\\NKE_data.csv\n",
      "Reading:  data\\SLB_data.csv\n",
      "Reading:  data\\VZ_data.csv\n",
      "Reading:  data\\WMT_data.csv\n"
     ]
    }
   ],
   "source": [
    "import pandas as pd\n",
    "from pathlib import Path\n",
    "\n",
    "data_dir = Path('data')\n",
    "sequences = []\n",
    "for path in data_dir.iterdir():\n",
    "    print('Reading: ', path)\n",
    "    dataframe = pd.read_csv(path)\n",
    "    sequences.append(dataframe)"
   ]
  },
  {
   "cell_type": "markdown",
   "metadata": {},
   "source": [
    "**Model**\n",
    "\n",
    "Initialize Model"
   ]
  },
  {
   "cell_type": "code",
   "execution_count": null,
   "metadata": {},
   "outputs": [],
   "source": []
  },
  {
   "cell_type": "markdown",
   "metadata": {},
   "source": [
    "**Training**\n",
    "\n",
    "Run training."
   ]
  },
  {
   "cell_type": "code",
   "execution_count": null,
   "metadata": {},
   "outputs": [],
   "source": []
  }
 ],
 "metadata": {
  "kernelspec": {
   "display_name": "Python 3.7.5 64-bit ('machinelearning': virtualenv)",
   "language": "python",
   "name": "python37564bitmachinelearningvirtualenv3718684f45014384afb509995cd06885"
  },
  "language_info": {
   "codemirror_mode": {
    "name": "ipython",
    "version": 3
   },
   "file_extension": ".py",
   "mimetype": "text/x-python",
   "name": "python",
   "nbconvert_exporter": "python",
   "pygments_lexer": "ipython3",
   "version": "3.7.5"
  }
 },
 "nbformat": 4,
 "nbformat_minor": 2
}
